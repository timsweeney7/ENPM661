{
 "cells": [
  {
   "cell_type": "markdown",
   "metadata": {
    "id": "OJrDI7KGo5rg"
   },
   "source": [
    "# Priority Queue in Python (two methods): 1-using Heapq, and 2- using queue\n",
    "\n",
    "Heap data structure is mainly used to represent a priority queue. In Python, it is available using “heapq” module and also be implemented using queue. The property of this data structure in Python is that each time the smallest of heap element is popped(min heap). Whenever elements are pushed or popped, heap structure in maintained. The heap[0] element also returns the smallest element each time.\n",
    "\n"
   ]
  },
  {
   "cell_type": "markdown",
   "metadata": {
    "id": "4rEaKy3ZfVBS"
   },
   "source": [
    "## Implementation using heapq\n",
    "\n",
    "Let’s see various Operations on heap :\n",
    "\n",
    "**heapify(iterable)** - This function is used to convert the iterable into a heap data structure. i.e. in heap order.\n",
    "\n",
    "**heappush(heap, ele)** - This function is used to insert the element mentioned in its arguments into heap. The order is adjusted, so as heap structure is maintained.\n",
    "\n",
    "**heappop(heap)** - This function is used to remove and return the smallest element from heap. The order is adjusted, so as heap structure is maintained.\n",
    "\n",
    "**heappushpop(heap, ele)** - This function combines the functioning of both push and pop operations in one statement, increasing efficiency. Heap order is maintained after this operation.\n",
    "\n",
    "**heapreplace(heap, ele)** - This function also inserts and pops element in one statement, but it is different from above function. In this, element is first popped, then the element is pushed.i.e, the value larger than the pushed value can be returned. heapreplace() returns the smallest value originally in heap regardless of the pushed element as opposed to heappushpop().\n",
    "\n",
    "**nlargest(k, iterable, key = fun)** - This function is used to return the k largest elements from the iterable specified and satisfying the key if mentioned.\n",
    "\n",
    "**nsmallest(k, iterable, key = fun)** - This function is used to return the k smallest elements from the iterable specified and satisfying the key if mentioned.\n"
   ]
  },
  {
   "cell_type": "code",
   "execution_count": 22,
   "metadata": {
    "colab": {
     "base_uri": "https://localhost:8080/"
    },
    "id": "SpZNla9xqX42",
    "outputId": "9936ae7d-c52d-4a5b-ee31-3eebfc86373e"
   },
   "outputs": [
    {
     "name": "stdout",
     "output_type": "stream",
     "text": [
      "First lowest cost element in heap:  Cost to come: 23 Parent Node index: 3 Current Index: 0 Coordinates (x,y): (7, 1)\n",
      "Second lowest cost element in heap:  Cost to come: 34 Parent Node index: 1 Current Index: 0 Coordinates (x,y): (2, 3)\n",
      "Third lowest cost element in heap:  Cost to come: 43 Parent Node index: 2 Current Index: 0 Coordinates (x,y): (4, 5)\n"
     ]
    }
   ],
   "source": [
    "import heapq as hq\n",
    "\n",
    "# creating tuple with cost to come, index, parent node index=0 and coordinate values (x,y) \n",
    "d1 = (34, 1, 0, (2,3))  \n",
    "d2 = (43, 2, 0, (4,5))\n",
    "d3 = (23, 3, 0, (7,1))\n",
    "\n",
    "#Initialising the list to be used in priority queue\n",
    "Q = []\n",
    "\n",
    "#Push elements to queue\n",
    "hq.heappush(Q, d1)\n",
    "hq.heappush(Q, d2)\n",
    "hq.heappush(Q, d3)\n",
    "\n",
    "hq.heapify(Q)\n",
    "\n",
    "first = hq.heappop(Q)\n",
    "print(\"First lowest cost element in heap: \", \"Cost to come:\", first[0], \"Parent Node index:\", first[1], \"Current Index:\", first[2], \"Coordinates (x,y):\", first[3])\n",
    "first = hq.heappop(Q)\n",
    "print(\"Second lowest cost element in heap: \", \"Cost to come:\", first[0], \"Parent Node index:\", first[1], \"Current Index:\", first[2], \"Coordinates (x,y):\", first[3])\n",
    "first = hq.heappop(Q)\n",
    "print(\"Third lowest cost element in heap: \", \"Cost to come:\", first[0], \"Parent Node index:\", first[1], \"Current Index:\", first[2], \"Coordinates (x,y):\", first[3])"
   ]
  },
  {
   "cell_type": "markdown",
   "metadata": {
    "id": "IgiRSTPnfnrR"
   },
   "source": [
    "## Implementation using queue"
   ]
  },
  {
   "cell_type": "code",
   "execution_count": 24,
   "metadata": {
    "colab": {
     "base_uri": "https://localhost:8080/"
    },
    "id": "QrXYTJrkd0iA",
    "outputId": "78cf6702-1a2b-4bed-b821-83f6b77653b7"
   },
   "outputs": [
    {
     "name": "stdout",
     "output_type": "stream",
     "text": [
      "First lowest cost element in heap:  Cost to come: 23 Parent Node index: 3 Current Index: 0 Coordinates (x,y): (7, 1)\n",
      "Second lowest cost element in heap:  Cost to come: 34 Parent Node index: 1 Current Index: 0 Coordinates (x,y): (2, 3)\n",
      "Third lowest cost element in heap:  Cost to come: 43 Parent Node index: 2 Current Index: 0 Coordinates (x,y): (4, 5)\n"
     ]
    }
   ],
   "source": [
    "from queue import PriorityQueue\n",
    "\n",
    "# creating tuple with cost to come, index, parent node index=0 and coordinate values (x,y) \n",
    "d1 = (34, 1, 0, (2,3))  \n",
    "d2 = (43, 2, 0, (4,5))\n",
    "d3 = (23, 3, 0, (7,1))\n",
    "\n",
    "\n",
    "#Initialising the list to be used in priority queue\n",
    "q = PriorityQueue()\n",
    "\n",
    "#Push elements to queue\n",
    "q.put(d1)\n",
    "q.put(d2)\n",
    "q.put(d3)\n",
    "\n",
    "first = q.get()\n",
    "print(\"First lowest cost element in heap: \", \"Cost to come:\", first[0], \"Parent Node index:\", first[1], \"Current Index:\", first[2], \"Coordinates (x,y):\", first[3])\n",
    "first = q.get()\n",
    "print(\"Second lowest cost element in heap: \", \"Cost to come:\", first[0], \"Parent Node index:\", first[1], \"Current Index:\", first[2], \"Coordinates (x,y):\", first[3])\n",
    "first = q.get()\n",
    "print(\"Third lowest cost element in heap: \", \"Cost to come:\", first[0], \"Parent Node index:\", first[1], \"Current Index:\", first[2], \"Coordinates (x,y):\", first[3])"
   ]
  }
 ],
 "metadata": {
  "colab": {
   "collapsed_sections": [],
   "name": "Priority_Q.ipynb",
   "provenance": []
  },
  "kernelspec": {
   "display_name": "Python 3",
   "language": "python",
   "name": "python3"
  },
  "language_info": {
   "codemirror_mode": {
    "name": "ipython",
    "version": 3
   },
   "file_extension": ".py",
   "mimetype": "text/x-python",
   "name": "python",
   "nbconvert_exporter": "python",
   "pygments_lexer": "ipython3",
   "version": "3.7.8"
  }
 },
 "nbformat": 4,
 "nbformat_minor": 4
}
