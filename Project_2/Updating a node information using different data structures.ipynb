{
 "cells": [
  {
   "cell_type": "code",
   "execution_count": 15,
   "id": "766bc865-8def-4101-978d-6b716651fd02",
   "metadata": {},
   "outputs": [
    {
     "name": "stdout",
     "output_type": "stream",
     "text": [
      "[(23, 3, 0, (7, 1)), (43, 2, 0, (4, 5)), (34, 1, 0, (2, 3))]\n",
      "[(20, 1, 0, (4, 5)), (23, 3, 0, (7, 1)), (34, 1, 0, (2, 3))]\n",
      "[(23, 3, 0, (7, 1)), (22, 1, 0, (4, 5)), (34, 1, 0, (2, 3))]\n"
     ]
    }
   ],
   "source": [
    "# Updating a node in a list \n",
    "\n",
    "lis=[]\n",
    "lis.append([(10,3),1,6,7])\n",
    "lis.append([(15,5),2,3,4])\n",
    "print(lis)\n",
    "for ele in lis:\n",
    "    if ele[0]==(15,5):\n",
    "       ele[1]=2\n",
    "       ele[2]=5    \n",
    "print(lis)\n",
    "\n",
    "\n",
    "# Updating a node in a dictionary\n",
    "dic={}\n",
    "dic[(10,3)]=(1,6,7)\n",
    "dic[(15,5)]=(2,3,4)\n",
    "print(dic)\n",
    "dic[(15,5)]=(2,5,4)\n",
    "print(dic)\n",
    "\n",
    "# Updating a node in a heapq \n",
    "import heapq as hq\n",
    "# creating tuple with cost to come, node index, parent node index=0 and coordinate values (x,y) \n",
    "\n",
    "d1 = (34, 1, 0, (2,3))  \n",
    "d2 = (43, 2, 0, (4,5))\n",
    "d3 = (23, 3, 0, (7,1))\n",
    "\n",
    "#Initialising the list to be used in priority queue\n",
    "Q = []\n",
    "\n",
    "#Push elements to queue\n",
    "hq.heappush(Q, d1)\n",
    "hq.heappush(Q, d2)\n",
    "hq.heappush(Q, d3)\n",
    "print(Q)\n",
    "\n",
    "hq.heapify(Q)\n",
    "\n",
    "for i in range(3):\n",
    "    if Q[i][3]==(4,5):\n",
    "        Q[i]=(20, 1, 0, (4,5))\n",
    "   \n",
    "hq.heapify(Q)\n",
    "\n",
    "print(Q)\n",
    "\n",
    "# Updating a node in a priority queue \n",
    "\n",
    "from queue import PriorityQueue\n",
    "\n",
    "# creating tuple with cost to come, index, parent node index=0 and coordinate values (x,y) \n",
    "d1 = (34, 1, 0, (2,3))  \n",
    "d2 = (43, 2, 0, (4,5))\n",
    "d3 = (23, 3, 0, (7,1))\n",
    "\n",
    "\n",
    "#Initialising the list to be used in priority queue\n",
    "q = PriorityQueue()\n",
    "\n",
    "#Push elements to queue\n",
    "q.put(d1)\n",
    "q.put(d2)\n",
    "q.put(d3)\n",
    "\n",
    "for i in range(3):\n",
    "    if q.queue[i][3]==(4, 5):\n",
    "        q.queue[i]=(22, 1, 0, (4,5))\n",
    "    \n",
    "print(q.queue)\n",
    "\n"
   ]
  },
  {
   "cell_type": "code",
   "execution_count": null,
   "id": "9477fe64-2edb-48ba-93b9-0cdbd2beabf4",
   "metadata": {},
   "outputs": [],
   "source": []
  }
 ],
 "metadata": {
  "kernelspec": {
   "display_name": "Python 3",
   "language": "python",
   "name": "python3"
  },
  "language_info": {
   "codemirror_mode": {
    "name": "ipython",
    "version": 3
   },
   "file_extension": ".py",
   "mimetype": "text/x-python",
   "name": "python",
   "nbconvert_exporter": "python",
   "pygments_lexer": "ipython3",
   "version": "3.7.8"
  }
 },
 "nbformat": 4,
 "nbformat_minor": 5
}
